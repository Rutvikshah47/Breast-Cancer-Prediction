{
  "nbformat": 4,
  "nbformat_minor": 0,
  "metadata": {
    "colab": {
      "name": "K_means.ipynb",
      "version": "0.3.2",
      "provenance": [],
      "collapsed_sections": [],
      "include_colab_link": true
    },
    "kernelspec": {
      "name": "python3",
      "display_name": "Python 3"
    }
  },
  "cells": [
    {
      "cell_type": "markdown",
      "metadata": {
        "id": "view-in-github",
        "colab_type": "text"
      },
      "source": [
        "<a href=\"https://colab.research.google.com/github/Rutvikshah47/Breast-Cancer-Prediction/blob/master/K_means.ipynb\" target=\"_parent\"><img src=\"https://colab.research.google.com/assets/colab-badge.svg\" alt=\"Open In Colab\"/></a>"
      ]
    },
    {
      "metadata": {
        "id": "-FxXhJ2K1b0w",
        "colab_type": "code",
        "colab": {}
      },
      "cell_type": "code",
      "source": [
        "# Code to read csv file into Colaboratory:\n",
        "\n",
        "!pip install -U -q PyDrive\n",
        "from pydrive.auth import GoogleAuth\n",
        "from pydrive.drive import GoogleDrive\n",
        "from google.colab import auth\n",
        "from oauth2client.client import GoogleCredentials\n",
        "\n",
        "# Authenticate and create the PyDrive client.\n",
        "auth.authenticate_user()\n",
        "gauth = GoogleAuth()\n",
        "gauth.credentials = GoogleCredentials.get_application_default()\n",
        "drive = GoogleDrive(gauth)"
      ],
      "execution_count": 0,
      "outputs": []
    },
    {
      "metadata": {
        "id": "so_RiJdY2Cto",
        "colab_type": "code",
        "colab": {}
      },
      "cell_type": "code",
      "source": [
        "import matplotlib.pyplot as plt\n",
        "from sklearn.cluster import KMeans\n",
        "import sklearn.metrics\n",
        "from sklearn.neighbors import KNeighborsClassifier\n",
        "from sklearn.model_selection import train_test_split\n",
        "from sklearn import metrics\n",
        "from scipy.spatial import distance\n",
        "from scipy.spatial import distance_matrix\n",
        "import numpy\n",
        "import seaborn as sns\n",
        "import pandas as pd"
      ],
      "execution_count": 0,
      "outputs": []
    },
    {
      "metadata": {
        "id": "9IRsmwWP1pj6",
        "colab_type": "code",
        "outputId": "49dad018-d124-4f63-95f8-e9070a263cf3",
        "colab": {
          "base_uri": "https://localhost:8080/",
          "height": 56
        }
      },
      "cell_type": "code",
      "source": [
        "downloaded = drive.CreateFile({'id': '1aDd32ZfPn-xRhy7vBsg1OqQSKgg3MP0j'}) \n",
        "downloaded.GetContentFile('BC_v1.csv')  \n",
        "df_v1 = pd.read_csv('BC_v1.csv')\n",
        "\n",
        "#To write csv in drive\n",
        "'''\n",
        "df_v16.to_csv('v16.csv', index=False)\n",
        "\n",
        "upload = drive.CreateFile({'title': 'v16.csv'})\n",
        "upload.SetContentFile('v16.csv')\n",
        "upload.Upload()\n",
        "'''\n",
        "# Dataset is now stored in a Pandas Dataframe"
      ],
      "execution_count": 0,
      "outputs": [
        {
          "output_type": "execute_result",
          "data": {
            "text/plain": [
              "\"\\ndf_v16.to_csv('v16.csv', index=False)\\n\\nupload = drive.CreateFile({'title': 'v16.csv'})\\nupload.SetContentFile('v16.csv')\\nupload.Upload()\\n\""
            ]
          },
          "metadata": {
            "tags": []
          },
          "execution_count": 3
        }
      ]
    },
    {
      "metadata": {
        "id": "BypKaNEj2jKD",
        "colab_type": "code",
        "outputId": "8b8efabd-1fda-4a9c-c11f-de0cd7624a7a",
        "colab": {
          "base_uri": "https://localhost:8080/",
          "height": 175
        }
      },
      "cell_type": "code",
      "source": [
        "X=df_v1.drop([\"Unnamed: 32\",\"diagnosis\"],axis=1)\n",
        "y=df_v1.diagnosis\n",
        "X['Cluster'] = pd.Series( index=X.index)\n",
        "X['Min Distance'] = pd.Series( index=X.index)\n",
        "X['id']=list(range(0,len(X)))\n",
        "#X['e'][0]=1\n",
        "X.head(2)"
      ],
      "execution_count": 0,
      "outputs": [
        {
          "output_type": "execute_result",
          "data": {
            "text/html": [
              "<div>\n",
              "<style scoped>\n",
              "    .dataframe tbody tr th:only-of-type {\n",
              "        vertical-align: middle;\n",
              "    }\n",
              "\n",
              "    .dataframe tbody tr th {\n",
              "        vertical-align: top;\n",
              "    }\n",
              "\n",
              "    .dataframe thead th {\n",
              "        text-align: right;\n",
              "    }\n",
              "</style>\n",
              "<table border=\"1\" class=\"dataframe\">\n",
              "  <thead>\n",
              "    <tr style=\"text-align: right;\">\n",
              "      <th></th>\n",
              "      <th>id</th>\n",
              "      <th>radius_mean</th>\n",
              "      <th>texture_mean</th>\n",
              "      <th>perimeter_mean</th>\n",
              "      <th>area_mean</th>\n",
              "      <th>smoothness_mean</th>\n",
              "      <th>compactness_mean</th>\n",
              "      <th>concavity_mean</th>\n",
              "      <th>concave points_mean</th>\n",
              "      <th>symmetry_mean</th>\n",
              "      <th>...</th>\n",
              "      <th>perimeter_worst</th>\n",
              "      <th>area_worst</th>\n",
              "      <th>smoothness_worst</th>\n",
              "      <th>compactness_worst</th>\n",
              "      <th>concavity_worst</th>\n",
              "      <th>concave points_worst</th>\n",
              "      <th>symmetry_worst</th>\n",
              "      <th>fractal_dimension_worst</th>\n",
              "      <th>Cluster</th>\n",
              "      <th>Min Distance</th>\n",
              "    </tr>\n",
              "  </thead>\n",
              "  <tbody>\n",
              "    <tr>\n",
              "      <th>0</th>\n",
              "      <td>0</td>\n",
              "      <td>17.99</td>\n",
              "      <td>10.38</td>\n",
              "      <td>122.8</td>\n",
              "      <td>1001.0</td>\n",
              "      <td>0.11840</td>\n",
              "      <td>0.27760</td>\n",
              "      <td>0.3001</td>\n",
              "      <td>0.14710</td>\n",
              "      <td>0.2419</td>\n",
              "      <td>...</td>\n",
              "      <td>184.6</td>\n",
              "      <td>2019.0</td>\n",
              "      <td>0.1622</td>\n",
              "      <td>0.6656</td>\n",
              "      <td>0.7119</td>\n",
              "      <td>0.2654</td>\n",
              "      <td>0.4601</td>\n",
              "      <td>0.11890</td>\n",
              "      <td>NaN</td>\n",
              "      <td>NaN</td>\n",
              "    </tr>\n",
              "    <tr>\n",
              "      <th>1</th>\n",
              "      <td>1</td>\n",
              "      <td>20.57</td>\n",
              "      <td>17.77</td>\n",
              "      <td>132.9</td>\n",
              "      <td>1326.0</td>\n",
              "      <td>0.08474</td>\n",
              "      <td>0.07864</td>\n",
              "      <td>0.0869</td>\n",
              "      <td>0.07017</td>\n",
              "      <td>0.1812</td>\n",
              "      <td>...</td>\n",
              "      <td>158.8</td>\n",
              "      <td>1956.0</td>\n",
              "      <td>0.1238</td>\n",
              "      <td>0.1866</td>\n",
              "      <td>0.2416</td>\n",
              "      <td>0.1860</td>\n",
              "      <td>0.2750</td>\n",
              "      <td>0.08902</td>\n",
              "      <td>NaN</td>\n",
              "      <td>NaN</td>\n",
              "    </tr>\n",
              "  </tbody>\n",
              "</table>\n",
              "<p>2 rows × 33 columns</p>\n",
              "</div>"
            ],
            "text/plain": [
              "   id  radius_mean  texture_mean  perimeter_mean  area_mean  smoothness_mean  \\\n",
              "0   0        17.99         10.38           122.8     1001.0          0.11840   \n",
              "1   1        20.57         17.77           132.9     1326.0          0.08474   \n",
              "\n",
              "   compactness_mean  concavity_mean  concave points_mean  symmetry_mean  \\\n",
              "0           0.27760          0.3001              0.14710         0.2419   \n",
              "1           0.07864          0.0869              0.07017         0.1812   \n",
              "\n",
              "       ...       perimeter_worst  area_worst  smoothness_worst  \\\n",
              "0      ...                 184.6      2019.0            0.1622   \n",
              "1      ...                 158.8      1956.0            0.1238   \n",
              "\n",
              "   compactness_worst  concavity_worst  concave points_worst  symmetry_worst  \\\n",
              "0             0.6656           0.7119                0.2654          0.4601   \n",
              "1             0.1866           0.2416                0.1860          0.2750   \n",
              "\n",
              "   fractal_dimension_worst  Cluster  Min Distance  \n",
              "0                  0.11890      NaN           NaN  \n",
              "1                  0.08902      NaN           NaN  \n",
              "\n",
              "[2 rows x 33 columns]"
            ]
          },
          "metadata": {
            "tags": []
          },
          "execution_count": 4
        }
      ]
    },
    {
      "metadata": {
        "id": "zBvtueTHJvj5",
        "colab_type": "code",
        "outputId": "0f1ad465-bd70-4dee-a6cd-a310a27b950e",
        "colab": {
          "base_uri": "https://localhost:8080/",
          "height": 36
        }
      },
      "cell_type": "code",
      "source": [
        "X_train, X_test, y_train, y_test = train_test_split(X,y, test_size=0.3, random_state=42)\n",
        "y_train=pd.DataFrame(y_train)\n",
        "y_train['id']=X_train.id\n",
        "y_train.columns\n",
        "y_test=pd.DataFrame(y_test)\n",
        "y_test['id']=X_test.id\n",
        "y_train.columns\n",
        "y_test.columns\n"
      ],
      "execution_count": 0,
      "outputs": [
        {
          "output_type": "execute_result",
          "data": {
            "text/plain": [
              "Index(['diagnosis', 'id'], dtype='object')"
            ]
          },
          "metadata": {
            "tags": []
          },
          "execution_count": 5
        }
      ]
    },
    {
      "metadata": {
        "id": "X7qFoZY03RmU",
        "colab_type": "code",
        "outputId": "15e535af-00e6-4f5d-9551-0bd06fc5085b",
        "colab": {
          "base_uri": "https://localhost:8080/",
          "height": 762
        }
      },
      "cell_type": "code",
      "source": [
        "#random centroids\n",
        "import random\n",
        "random.seed(42)\n",
        "i=random.choice(list(X_train.id))\n",
        "j=random.choice(list(X_train.id))\n",
        "print(i,j)\n",
        "centroid1=X_train[X_train.id==i][X_train.columns[1:31]]\n",
        "centroid2=X_train[X_train.id==j][X_train.columns[1:31]]\n",
        "print(centroid1)\n",
        "print(centroid2)"
      ],
      "execution_count": 0,
      "outputs": [
        {
          "output_type": "stream",
          "text": [
            "303 296\n",
            "     radius_mean  texture_mean  perimeter_mean  area_mean  smoothness_mean  \\\n",
            "303        10.49         18.61           66.86      334.3           0.1068   \n",
            "\n",
            "     compactness_mean  concavity_mean  concave points_mean  symmetry_mean  \\\n",
            "303           0.06678         0.02297               0.0178         0.1482   \n",
            "\n",
            "     fractal_dimension_mean           ...             radius_worst  \\\n",
            "303                   0.066           ...                    11.06   \n",
            "\n",
            "     texture_worst  perimeter_worst  area_worst  smoothness_worst  \\\n",
            "303          24.54            70.76       375.4            0.1413   \n",
            "\n",
            "     compactness_worst  concavity_worst  concave points_worst  symmetry_worst  \\\n",
            "303             0.1044          0.08423               0.06528          0.2213   \n",
            "\n",
            "     fractal_dimension_worst  \n",
            "303                  0.07842  \n",
            "\n",
            "[1 rows x 30 columns]\n",
            "     radius_mean  texture_mean  perimeter_mean  area_mean  smoothness_mean  \\\n",
            "296        10.91         12.35           69.14      363.7          0.08518   \n",
            "\n",
            "     compactness_mean  concavity_mean  concave points_mean  symmetry_mean  \\\n",
            "296           0.04721         0.01236              0.01369         0.1449   \n",
            "\n",
            "     fractal_dimension_mean           ...             radius_worst  \\\n",
            "296                 0.06031           ...                    11.37   \n",
            "\n",
            "     texture_worst  perimeter_worst  area_worst  smoothness_worst  \\\n",
            "296          14.82            72.42       392.2           0.09312   \n",
            "\n",
            "     compactness_worst  concavity_worst  concave points_worst  symmetry_worst  \\\n",
            "296            0.07506          0.02884               0.03194          0.2143   \n",
            "\n",
            "     fractal_dimension_worst  \n",
            "296                  0.06643  \n",
            "\n",
            "[1 rows x 30 columns]\n"
          ],
          "name": "stdout"
        }
      ]
    },
    {
      "metadata": {
        "id": "PpnBvbNP3x5i",
        "colab_type": "code",
        "outputId": "7292f8f3-ce45-427c-84ed-d6857e805591",
        "colab": {
          "base_uri": "https://localhost:8080/",
          "height": 475
        }
      },
      "cell_type": "code",
      "source": [
        "#Assign data points\n",
        "limit=len(X_train)\n",
        "\n",
        "pd.options.mode.chained_assignment=None\n",
        "for j in range(0,10):\n",
        "  #print(b1,m1,b2,m2)\n",
        "  \n",
        "  b1=0\n",
        "  m1=0\n",
        "  b2=0\n",
        "  m2=0\n",
        "  for i in X_train.id:\n",
        "      row=X_train[X_train.id==i][X_train.columns[1:31]]\n",
        "    #pcluster=X.iloc[i][\"Cluster\"]\n",
        "    #if(pcluster==1.0): temp=centroid1\n",
        "    #else: temp=centroid2\n",
        "    #dtemp=distance.euclidean(row,temp)\n",
        "    #if(dtemp<=X.iloc[i][\"Min Distance\"]):\n",
        "    #  X[\"Cluster\"][i]=pcluster\n",
        "    #  X[\"Min Distance\"][i]=dtemp\n",
        "    #else:\n",
        "    #rint(row.shape)\n",
        "    #rint(centroid1.shape)\n",
        "      #print(row.shape)\n",
        "      #print(centroid1.shape,centroid2.shape)\n",
        "      #input()\n",
        "      d1=distance.euclidean(row,centroid1)\n",
        "      d2=distance.euclidean(row,centroid2)\n",
        "      minm=1   #c1 is selected\n",
        "      mind=d1\n",
        "      if (d2<d1):\n",
        "        minm=2 #c2 is selected\n",
        "        mind=d2\n",
        "      \n",
        "      X_train.loc[X_train.id==i,'Cluster'] = minm\n",
        "      X_train.loc[X_train.id==i,'Min Distance'] = mind\n",
        "      c=X_train[X_train.id==i].Cluster\n",
        "      #print(c)\n",
        "      #print(d1,d2)\n",
        "      if(all(y_train.loc[y_train.id==i,'diagnosis'] =='M')):\n",
        "        if(all(c==1.0)):\n",
        "          m1=m1+1\n",
        "        elif(all(c==2.0)):\n",
        "          m2=m2+1\n",
        "      if(all(y_train.loc[y_train.id==i,'diagnosis'] =='B')):\n",
        "        if(all(c==1.0)):\n",
        "          b1=b1+1\n",
        "        elif(all(c==2.0)):\n",
        "          b2=b2+1\n",
        "      #print(X.Cluster.value_counts())\n",
        "  pc1=centroid1\n",
        "  pc2=centroid2\n",
        "  centroid1=X_train[X_train[\"Cluster\"]==1.0][X_train.columns[1:31]].mean(axis=0)\n",
        "  centroid2=X_train[X_train[\"Cluster\"]==2.0][X_train.columns[1:31]].mean(axis=0)\n",
        "  \n",
        "  if(centroid1.equals(pc1)==True and centroid2.equals(pc2)==True):\n",
        "    break\n",
        "  if(centroid1.equals(pc1)==False and centroid2.equals(pc2)==False):\n",
        "    print(\"No\")\n",
        "  \n",
        "  print(X_train.Cluster.value_counts())\n",
        "  #input()\n"
      ],
      "execution_count": 0,
      "outputs": [
        {
          "output_type": "stream",
          "text": [
            "No\n",
            "2.0    355\n",
            "1.0     43\n",
            "Name: Cluster, dtype: int64\n",
            "No\n",
            "2.0    225\n",
            "1.0    173\n",
            "Name: Cluster, dtype: int64\n",
            "No\n",
            "1.0    255\n",
            "2.0    143\n",
            "Name: Cluster, dtype: int64\n",
            "No\n",
            "1.0    293\n",
            "2.0    105\n",
            "Name: Cluster, dtype: int64\n",
            "No\n",
            "1.0    304\n",
            "2.0     94\n",
            "Name: Cluster, dtype: int64\n",
            "No\n",
            "1.0    306\n",
            "2.0     92\n",
            "Name: Cluster, dtype: int64\n"
          ],
          "name": "stdout"
        }
      ]
    },
    {
      "metadata": {
        "id": "qJlnz8uAHA9f",
        "colab_type": "code",
        "outputId": "498ff552-cf56-49f4-80e9-bded55bc1427",
        "colab": {
          "base_uri": "https://localhost:8080/",
          "height": 55
        }
      },
      "cell_type": "code",
      "source": [
        "print(\"No of Iteration:\",j)\n",
        "print(b1,m1,b2,m2)\n"
      ],
      "execution_count": 0,
      "outputs": [
        {
          "output_type": "stream",
          "text": [
            "No of Iteration: 6\n",
            "248 58 1 91\n"
          ],
          "name": "stdout"
        }
      ]
    },
    {
      "metadata": {
        "id": "JrmuuAWP9IyF",
        "colab_type": "code",
        "outputId": "d53713f1-3b2b-4f13-acea-3a363155e6b0",
        "colab": {
          "base_uri": "https://localhost:8080/",
          "height": 36
        }
      },
      "cell_type": "code",
      "source": [
        "#mannual way\n",
        "b1=0\n",
        "m1=0\n",
        "b2=0\n",
        "m2=0\n",
        "for i in X_train.id:\n",
        "  c=X_train[X_train.id==i].Cluster\n",
        "  if(all(y_train.loc[y_train.id==i,'diagnosis'] =='M')):\n",
        "        if(all(c==1.0)):\n",
        "          m1=m1+1\n",
        "        elif(all(c==2.0)):\n",
        "          m2=m2+1\n",
        "  if(all(y_train.loc[y_train.id==i,'diagnosis'] =='B')):\n",
        "        if(all(c==1.0)):\n",
        "          b1=b1+1\n",
        "        elif(all(c==2.0)):\n",
        "          b2=b2+1\n",
        "print(b1,m1,b2,m2)    "
      ],
      "execution_count": 0,
      "outputs": [
        {
          "output_type": "stream",
          "text": [
            "248 58 1 91\n"
          ],
          "name": "stdout"
        }
      ]
    },
    {
      "metadata": {
        "id": "iA4zLh0W-5LP",
        "colab_type": "code",
        "colab": {}
      },
      "cell_type": "code",
      "source": [
        "if(b1<=m1): \n",
        "  c1=\"M\"\n",
        "else:\n",
        "  c1=\"B\"\n",
        "if(b2<=m2):\n",
        "  c2=\"M\"\n",
        "else:\n",
        "  c2=\"B\"\n",
        "  \n",
        "for i in X_train.id:\n",
        "  c=X_train[X_train.id==i].Cluster\n",
        "  \n",
        "  if(all(c==1.0)):\n",
        "    X_train.loc[X_train.id==i,'Cluster']=c1\n",
        "  if(all(c==2.0)):\n",
        "    X_train.loc[X_train.id==i,'Cluster']=c2"
      ],
      "execution_count": 0,
      "outputs": []
    },
    {
      "metadata": {
        "id": "Bh37CPTjRwKB",
        "colab_type": "code",
        "outputId": "5aeabcf7-fe84-4b38-aae5-68f2e1c4644d",
        "colab": {
          "base_uri": "https://localhost:8080/",
          "height": 94
        }
      },
      "cell_type": "code",
      "source": [
        "print(c1,c2)\n",
        "print(X_train.Cluster.value_counts())"
      ],
      "execution_count": 0,
      "outputs": [
        {
          "output_type": "stream",
          "text": [
            "B M\n",
            "B    306\n",
            "M     92\n",
            "Name: Cluster, dtype: int64\n"
          ],
          "name": "stdout"
        }
      ]
    },
    {
      "metadata": {
        "id": "NYowiNh7JNPv",
        "colab_type": "code",
        "outputId": "1ab12bd6-c8cd-462c-cc08-d400cf87ed4d",
        "colab": {
          "base_uri": "https://localhost:8080/",
          "height": 55
        }
      },
      "cell_type": "code",
      "source": [
        "#Model Training is over \n",
        "#Testing with test data\n",
        "y_pred=list()\n",
        "for i in X_test.id:\n",
        "  row=X_test[X_test.id==i][X_test.columns[1:31]]\n",
        "  d1=distance.euclidean(row,centroid1)\n",
        "  d2=distance.euclidean(row,centroid2)\n",
        "  minm=c1   #c1 is selected\n",
        "  if (d2<d1):\n",
        "    minm=c2 #c2 is selected\n",
        "  y_pred.append(minm) \n",
        "y_pred=pd.Series(y_pred)\n",
        "print(y_pred.shape)\n",
        "print(y_test.shape)"
      ],
      "execution_count": 0,
      "outputs": [
        {
          "output_type": "stream",
          "text": [
            "(171,)\n",
            "(171, 2)\n"
          ],
          "name": "stdout"
        }
      ]
    },
    {
      "metadata": {
        "id": "j33Ud1ZTVWFv",
        "colab_type": "code",
        "colab": {}
      },
      "cell_type": "code",
      "source": [
        "#B=0 , M=1\n",
        "y_t=list()\n",
        "y_p=list()\n",
        "for i in y_test.id:\n",
        "  row=y_test.loc[y_test.id==i,'diagnosis']\n",
        "  if(all(row =='B')):\n",
        "    y_t.append(0)\n",
        "  if(all(row=='M')):\n",
        "    y_t.append(1)\n",
        "    \n",
        "for i in y_pred:\n",
        "  row=i\n",
        "  if(row=='B'):\n",
        "    y_p.append(0)\n",
        "  if(row=='M'):\n",
        "    y_p.append(1)\n"
      ],
      "execution_count": 0,
      "outputs": []
    },
    {
      "metadata": {
        "id": "OqS37JRTI5pk",
        "colab_type": "code",
        "outputId": "375791a3-49a5-47cc-c575-1e131a0d0f0f",
        "colab": {
          "base_uri": "https://localhost:8080/",
          "height": 113
        }
      },
      "cell_type": "code",
      "source": [
        "Accuracy=metrics.accuracy_score(y_t, y_p)\n",
        "print(\"Accuracy:\",Accuracy)\n",
        "print(sklearn.metrics.accuracy_score(y_t,y_p,normalize=False))\n",
        "print(sklearn.metrics.confusion_matrix(y_t,y_p))\n",
        "print(sklearn.metrics.f1_score(y_t,y_p))"
      ],
      "execution_count": 0,
      "outputs": [
        {
          "output_type": "stream",
          "text": [
            "Accuracy: 0.8596491228070176\n",
            "147\n",
            "[[108   0]\n",
            " [ 24  39]]\n",
            "0.7647058823529412\n"
          ],
          "name": "stdout"
        }
      ]
    },
    {
      "metadata": {
        "id": "Si45Nk8h9cfe",
        "colab_type": "code",
        "outputId": "75566df2-a2c8-4d39-cff8-3611cbc4ecc6",
        "colab": {
          "base_uri": "https://localhost:8080/",
          "height": 75
        }
      },
      "cell_type": "code",
      "source": [
        "y.value_counts()"
      ],
      "execution_count": 0,
      "outputs": [
        {
          "output_type": "execute_result",
          "data": {
            "text/plain": [
              "B    357\n",
              "M    212\n",
              "Name: diagnosis, dtype: int64"
            ]
          },
          "metadata": {
            "tags": []
          },
          "execution_count": 16
        }
      ]
    },
    {
      "metadata": {
        "id": "QPmBoFEE2chj",
        "colab_type": "code",
        "colab": {}
      },
      "cell_type": "code",
      "source": [
        "numpy.save(open(\"K-means Accuracy\", 'wb'), Accuracy)"
      ],
      "execution_count": 0,
      "outputs": []
    }
  ]
}